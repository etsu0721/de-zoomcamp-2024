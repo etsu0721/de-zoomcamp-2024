{
 "cells": [
  {
   "cell_type": "markdown",
   "metadata": {},
   "source": [
    "Modified code from [here](https://github.com/DataTalksClub/data-engineering-zoomcamp/blob/main/03-data-warehouse/extras/web_to_gcs.py)"
   ]
  },
  {
   "cell_type": "code",
   "execution_count": 19,
   "metadata": {},
   "outputs": [],
   "source": [
    "import io\n",
    "import os\n",
    "import requests\n",
    "import pandas as pd\n",
    "from google.cloud import storage"
   ]
  },
  {
   "cell_type": "code",
   "execution_count": 36,
   "metadata": {},
   "outputs": [],
   "source": [
    "\"\"\"\n",
    "Pre-reqs: \n",
    "1. `pip install pandas pyarrow google-cloud-storage`\n",
    "2. Set GOOGLE_APPLICATION_CREDENTIALS to your project/service-account key\n",
    "3. Set GCP_GCS_BUCKET as your bucket or change default value of BUCKET\n",
    "\"\"\"\n",
    "\n",
    "# services = ['fhv','green','yellow']\n",
    "init_url = 'https://github.com/DataTalksClub/nyc-tlc-data/releases/download/'\n",
    "\n",
    "creds = '/Users/elijahsutton/Documents/projects/de-zoomcamp-2024/module_1/1_terraform_gcp/keys/creds.json'\n",
    "os.environ['GOOGLE_APPLICATION_CREDENTIALS'] = creds\n",
    "\n",
    "BUCKET = os.environ.get('GCP_GCS_BUCKET', 'de_zoomcamp_mage_18469')"
   ]
  },
  {
   "cell_type": "code",
   "execution_count": 37,
   "metadata": {},
   "outputs": [],
   "source": [
    "def upload_to_gcs(bucket, object_name, local_file):\n",
    "    \"\"\"\n",
    "    Ref: https://cloud.google.com/storage/docs/uploading-objects#storage-upload-object-python\n",
    "    \"\"\"\n",
    "    # # WORKAROUND to prevent timeout for files > 6 MB on 800 kbps upload speed.\n",
    "    # # (Ref: https://github.com/googleapis/python-storage/issues/74)\n",
    "    storage.blob._MAX_MULTIPART_SIZE = 5 * 1024 * 1024  # 5 MB\n",
    "    storage.blob._DEFAULT_CHUNKSIZE = 5 * 1024 * 1024  # 5 MB\n",
    "\n",
    "    client = storage.Client()\n",
    "    bucket = client.bucket(bucket)\n",
    "    blob = bucket.blob(object_name)\n",
    "    blob.upload_from_filename(local_file)"
   ]
  },
  {
   "cell_type": "code",
   "execution_count": 38,
   "metadata": {},
   "outputs": [],
   "source": [
    "def web_to_gcs(year, service):\n",
    "    for i in range(12):\n",
    "        \n",
    "        # sets the month part of the file_name string\n",
    "        month = '0'+str(i+1)\n",
    "        month = month[-2:]\n",
    "\n",
    "        # csv file_name\n",
    "        file_name = f\"{service}_tripdata_{year}-{month}.csv.gz\"\n",
    "\n",
    "        # download it using requests via a pandas df\n",
    "        request_url = f\"{init_url}{service}/{file_name}\"\n",
    "        r = requests.get(request_url)\n",
    "        open(file_name, 'wb').write(r.content)\n",
    "        # os.system(f'curl -L {request_url} -o {file_name}')\n",
    "        print(f\"Local: {file_name}\")\n",
    "\n",
    "        # read it back into a parquet file\n",
    "        df = pd.read_csv(file_name, compression='gzip')\n",
    "        file_name = file_name.replace('.csv.gz', '.parquet')\n",
    "        df.to_parquet(file_name, engine='pyarrow')\n",
    "        print(f\"Parquet: {file_name}\")\n",
    "\n",
    "        # upload it to gcs \n",
    "        upload_to_gcs(BUCKET, f\"{service}/{file_name}\", file_name)\n",
    "        print(f\"GCS: {service}/{file_name}\")\n",
    "\n",
    "        # Remove compressed CSV and parquet files locally\n",
    "        file_name_no_ext = file_name.split('.')[0]\n",
    "        print('Removing locally:')\n",
    "        os.system(f'rm -v {file_name_no_ext}.*')"
   ]
  },
  {
   "cell_type": "code",
   "execution_count": 39,
   "metadata": {},
   "outputs": [
    {
     "name": "stdout",
     "output_type": "stream",
     "text": [
      "Local: fhv_tripdata_2019-01.csv.gz\n",
      "Parquet: fhv_tripdata_2019-01.parquet\n",
      "GCS: fhv/fhv_tripdata_2019-01.parquet\n",
      "Removing locally:\n",
      "fhv_tripdata_2019-01.csv.gz\n",
      "fhv_tripdata_2019-01.parquet\n",
      "Local: fhv_tripdata_2019-02.csv.gz\n",
      "Parquet: fhv_tripdata_2019-02.parquet\n",
      "GCS: fhv/fhv_tripdata_2019-02.parquet\n",
      "Removing locally:\n",
      "fhv_tripdata_2019-02.csv.gz\n",
      "fhv_tripdata_2019-02.parquet\n",
      "Local: fhv_tripdata_2019-03.csv.gz\n",
      "Parquet: fhv_tripdata_2019-03.parquet\n",
      "GCS: fhv/fhv_tripdata_2019-03.parquet\n",
      "Removing locally:\n",
      "fhv_tripdata_2019-03.csv.gz\n",
      "fhv_tripdata_2019-03.parquet\n",
      "Local: fhv_tripdata_2019-04.csv.gz\n",
      "Parquet: fhv_tripdata_2019-04.parquet\n",
      "GCS: fhv/fhv_tripdata_2019-04.parquet\n",
      "Removing locally:\n",
      "fhv_tripdata_2019-04.csv.gz\n",
      "fhv_tripdata_2019-04.parquet\n",
      "Local: fhv_tripdata_2019-05.csv.gz\n",
      "Parquet: fhv_tripdata_2019-05.parquet\n",
      "GCS: fhv/fhv_tripdata_2019-05.parquet\n",
      "Removing locally:\n",
      "fhv_tripdata_2019-05.csv.gz\n",
      "fhv_tripdata_2019-05.parquet\n",
      "Local: fhv_tripdata_2019-06.csv.gz\n",
      "Parquet: fhv_tripdata_2019-06.parquet\n",
      "GCS: fhv/fhv_tripdata_2019-06.parquet\n",
      "Removing locally:\n",
      "fhv_tripdata_2019-06.csv.gz\n",
      "fhv_tripdata_2019-06.parquet\n",
      "Local: fhv_tripdata_2019-07.csv.gz\n",
      "Parquet: fhv_tripdata_2019-07.parquet\n",
      "GCS: fhv/fhv_tripdata_2019-07.parquet\n",
      "Removing locally:\n",
      "fhv_tripdata_2019-07.csv.gz\n",
      "fhv_tripdata_2019-07.parquet\n",
      "Local: fhv_tripdata_2019-08.csv.gz\n",
      "Parquet: fhv_tripdata_2019-08.parquet\n",
      "GCS: fhv/fhv_tripdata_2019-08.parquet\n",
      "Removing locally:\n",
      "fhv_tripdata_2019-08.csv.gz\n",
      "fhv_tripdata_2019-08.parquet\n",
      "Local: fhv_tripdata_2019-09.csv.gz\n",
      "Parquet: fhv_tripdata_2019-09.parquet\n",
      "GCS: fhv/fhv_tripdata_2019-09.parquet\n",
      "Removing locally:\n",
      "fhv_tripdata_2019-09.csv.gz\n",
      "fhv_tripdata_2019-09.parquet\n",
      "Local: fhv_tripdata_2019-10.csv.gz\n",
      "Parquet: fhv_tripdata_2019-10.parquet\n",
      "GCS: fhv/fhv_tripdata_2019-10.parquet\n",
      "Removing locally:\n",
      "fhv_tripdata_2019-10.csv.gz\n",
      "fhv_tripdata_2019-10.parquet\n",
      "Local: fhv_tripdata_2019-11.csv.gz\n",
      "Parquet: fhv_tripdata_2019-11.parquet\n",
      "GCS: fhv/fhv_tripdata_2019-11.parquet\n",
      "Removing locally:\n",
      "fhv_tripdata_2019-11.csv.gz\n",
      "fhv_tripdata_2019-11.parquet\n",
      "Local: fhv_tripdata_2019-12.csv.gz\n",
      "Parquet: fhv_tripdata_2019-12.parquet\n",
      "GCS: fhv/fhv_tripdata_2019-12.parquet\n",
      "Removing locally:\n",
      "fhv_tripdata_2019-12.csv.gz\n",
      "fhv_tripdata_2019-12.parquet\n"
     ]
    }
   ],
   "source": [
    "web_to_gcs('2019', 'fhv')"
   ]
  }
 ],
 "metadata": {
  "kernelspec": {
   "display_name": "dezc24",
   "language": "python",
   "name": "python3"
  },
  "language_info": {
   "codemirror_mode": {
    "name": "ipython",
    "version": 3
   },
   "file_extension": ".py",
   "mimetype": "text/x-python",
   "name": "python",
   "nbconvert_exporter": "python",
   "pygments_lexer": "ipython3",
   "version": "3.10.13"
  }
 },
 "nbformat": 4,
 "nbformat_minor": 2
}
