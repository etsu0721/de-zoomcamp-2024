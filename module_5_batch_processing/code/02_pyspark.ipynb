{
 "cells": [
  {
   "cell_type": "markdown",
   "metadata": {},
   "source": [
    "https://github.com/DataTalksClub/data-engineering-zoomcamp/blob/main/05-batch/code/04_pyspark.ipynb"
   ]
  },
  {
   "cell_type": "code",
   "execution_count": 1,
   "metadata": {},
   "outputs": [],
   "source": [
    "import pyspark\n",
    "from pyspark.sql import SparkSession"
   ]
  },
  {
   "cell_type": "code",
   "execution_count": 2,
   "metadata": {},
   "outputs": [
    {
     "name": "stderr",
     "output_type": "stream",
     "text": [
      "Setting default log level to \"WARN\".\n",
      "To adjust logging level use sc.setLogLevel(newLevel). For SparkR, use setLogLevel(newLevel).\n",
      "24/03/05 07:50:52 WARN NativeCodeLoader: Unable to load native-hadoop library for your platform... using builtin-java classes where applicable\n"
     ]
    }
   ],
   "source": [
    "spark = SparkSession.builder \\\n",
    "    .master(\"local[*]\") \\\n",
    "    .appName('test') \\\n",
    "    .getOrCreate()"
   ]
  },
  {
   "cell_type": "code",
   "execution_count": 4,
   "metadata": {},
   "outputs": [
    {
     "name": "stdout",
     "output_type": "stream",
     "text": [
      "  % Total    % Received % Xferd  Average Speed   Time    Time     Time  Current\n",
      "                                 Dload  Upload   Total   Spent    Left  Speed\n",
      "  0     0    0     0    0     0      0      0 --:--:-- --:--:-- --:--:--     0\n",
      "100  123M  100  123M    0     0  5796k      0  0:00:21  0:00:21 --:--:-- 9108k\n"
     ]
    }
   ],
   "source": [
    "!curl -LO https://github.com/DataTalksClub/nyc-tlc-data/releases/download/fhvhv/fhvhv_tripdata_2021-01.csv.gz --output-dir ../data/"
   ]
  },
  {
   "cell_type": "code",
   "execution_count": 6,
   "metadata": {},
   "outputs": [
    {
     "name": "stdout",
     "output_type": "stream",
     "text": [
      "../data/fhvhv_tripdata_2021-01.csv already exists -- do you wish to overwrite (y or n)? ^C\n"
     ]
    }
   ],
   "source": [
    "!gzip -dk ../data/fhvhv_tripdata_2021-01.csv.gz"
   ]
  },
  {
   "cell_type": "code",
   "execution_count": 3,
   "metadata": {},
   "outputs": [
    {
     "name": "stdout",
     "output_type": "stream",
     "text": [
      " 11908469 ../data/fhvhv_tripdata_2021-01.csv\n"
     ]
    }
   ],
   "source": [
    "!wc -l ../data/fhvhv_tripdata_2021-01.csv"
   ]
  },
  {
   "cell_type": "code",
   "execution_count": 10,
   "metadata": {},
   "outputs": [
    {
     "name": "stderr",
     "output_type": "stream",
     "text": [
      "                                                                                \r"
     ]
    }
   ],
   "source": [
    "pyspark_df = spark.read.option('header', 'true').csv('../data/fhvhv_tripdata_2021-01.csv', inferSchema=True)"
   ]
  },
  {
   "cell_type": "code",
   "execution_count": 12,
   "metadata": {},
   "outputs": [
    {
     "data": {
      "text/plain": [
       "StructType([StructField('hvfhs_license_num', StringType(), True), StructField('dispatching_base_num', StringType(), True), StructField('pickup_datetime', TimestampType(), True), StructField('dropoff_datetime', TimestampType(), True), StructField('PULocationID', IntegerType(), True), StructField('DOLocationID', IntegerType(), True), StructField('SR_Flag', IntegerType(), True)])"
      ]
     },
     "execution_count": 12,
     "metadata": {},
     "output_type": "execute_result"
    }
   ],
   "source": [
    "pyspark_df.schema"
   ]
  },
  {
   "cell_type": "code",
   "execution_count": 11,
   "metadata": {},
   "outputs": [
    {
     "name": "stdout",
     "output_type": "stream",
     "text": [
      "+-----------------+--------------------+-------------------+-------------------+------------+------------+-------+\n",
      "|hvfhs_license_num|dispatching_base_num|    pickup_datetime|   dropoff_datetime|PULocationID|DOLocationID|SR_Flag|\n",
      "+-----------------+--------------------+-------------------+-------------------+------------+------------+-------+\n",
      "|           HV0003|              B02682|2021-01-01 00:33:44|2021-01-01 00:49:07|         230|         166|   NULL|\n",
      "|           HV0003|              B02682|2021-01-01 00:55:19|2021-01-01 01:18:21|         152|         167|   NULL|\n",
      "|           HV0003|              B02764|2021-01-01 00:23:56|2021-01-01 00:38:05|         233|         142|   NULL|\n",
      "|           HV0003|              B02764|2021-01-01 00:42:51|2021-01-01 00:45:50|         142|         143|   NULL|\n",
      "|           HV0003|              B02764|2021-01-01 00:48:14|2021-01-01 01:08:42|         143|          78|   NULL|\n",
      "|           HV0005|              B02510|2021-01-01 00:06:59|2021-01-01 00:43:01|          88|          42|   NULL|\n",
      "|           HV0005|              B02510|2021-01-01 00:50:00|2021-01-01 01:04:57|          42|         151|   NULL|\n",
      "|           HV0003|              B02764|2021-01-01 00:14:30|2021-01-01 00:50:27|          71|         226|   NULL|\n",
      "|           HV0003|              B02875|2021-01-01 00:22:54|2021-01-01 00:30:20|         112|         255|   NULL|\n",
      "|           HV0003|              B02875|2021-01-01 00:40:12|2021-01-01 00:53:31|         255|         232|   NULL|\n",
      "|           HV0003|              B02875|2021-01-01 00:56:45|2021-01-01 01:17:42|         232|         198|   NULL|\n",
      "|           HV0003|              B02835|2021-01-01 00:29:04|2021-01-01 00:36:27|         113|          48|   NULL|\n",
      "|           HV0003|              B02835|2021-01-01 00:48:56|2021-01-01 00:59:12|         239|          75|   NULL|\n",
      "|           HV0004|              B02800|2021-01-01 00:15:24|2021-01-01 00:38:31|         181|         237|   NULL|\n",
      "|           HV0004|              B02800|2021-01-01 00:45:00|2021-01-01 01:06:45|         236|          68|   NULL|\n",
      "|           HV0003|              B02682|2021-01-01 00:11:53|2021-01-01 00:18:06|         256|         148|   NULL|\n",
      "|           HV0003|              B02682|2021-01-01 00:28:31|2021-01-01 00:41:40|          79|          80|   NULL|\n",
      "|           HV0003|              B02682|2021-01-01 00:50:49|2021-01-01 00:55:59|          17|         217|   NULL|\n",
      "|           HV0005|              B02510|2021-01-01 00:08:40|2021-01-01 00:39:39|          62|          29|   NULL|\n",
      "|           HV0003|              B02836|2021-01-01 00:53:48|2021-01-01 01:11:40|          22|          22|   NULL|\n",
      "+-----------------+--------------------+-------------------+-------------------+------------+------------+-------+\n",
      "only showing top 20 rows\n",
      "\n"
     ]
    }
   ],
   "source": [
    "pyspark_df.show()"
   ]
  },
  {
   "cell_type": "code",
   "execution_count": 11,
   "metadata": {},
   "outputs": [],
   "source": [
    "!head -n 1001 ../data/fhvhv_tripdata_2021-01.csv > ../data/fhvhv_tripdata_2021-01_head.csv"
   ]
  },
  {
   "cell_type": "code",
   "execution_count": 12,
   "metadata": {},
   "outputs": [
    {
     "name": "stdout",
     "output_type": "stream",
     "text": [
      "hvfhs_license_num,dispatching_base_num,pickup_datetime,dropoff_datetime,PULocationID,DOLocationID,SR_Flag\n",
      "HV0003,B02682,2021-01-01 00:33:44,2021-01-01 00:49:07,230,166,\n",
      "HV0003,B02682,2021-01-01 00:55:19,2021-01-01 01:18:21,152,167,\n",
      "HV0003,B02764,2021-01-01 00:23:56,2021-01-01 00:38:05,233,142,\n",
      "HV0003,B02764,2021-01-01 00:42:51,2021-01-01 00:45:50,142,143,\n",
      "HV0003,B02764,2021-01-01 00:48:14,2021-01-01 01:08:42,143,78,\n",
      "HV0005,B02510,2021-01-01 00:06:59,2021-01-01 00:43:01,88,42,\n",
      "HV0005,B02510,2021-01-01 00:50:00,2021-01-01 01:04:57,42,151,\n",
      "HV0003,B02764,2021-01-01 00:14:30,2021-01-01 00:50:27,71,226,\n",
      "HV0003,B02875,2021-01-01 00:22:54,2021-01-01 00:30:20,112,255,\n"
     ]
    }
   ],
   "source": [
    "!head -n 10 ../data/fhvhv_tripdata_2021-01_head.csv"
   ]
  },
  {
   "cell_type": "code",
   "execution_count": 13,
   "metadata": {},
   "outputs": [
    {
     "name": "stdout",
     "output_type": "stream",
     "text": [
      "    1001 ../data/fhvhv_tripdata_2021-01_head.csv\n"
     ]
    }
   ],
   "source": [
    "!wc -l ../data/fhvhv_tripdata_2021-01_head.csv"
   ]
  },
  {
   "cell_type": "code",
   "execution_count": 7,
   "metadata": {},
   "outputs": [],
   "source": [
    "import pandas as pd"
   ]
  },
  {
   "cell_type": "code",
   "execution_count": 8,
   "metadata": {},
   "outputs": [],
   "source": [
    "pandas_df = pd.read_csv('../data/fhvhv_tripdata_2021-01_head.csv')"
   ]
  },
  {
   "cell_type": "code",
   "execution_count": 9,
   "metadata": {},
   "outputs": [
    {
     "data": {
      "text/plain": [
       "hvfhs_license_num        object\n",
       "dispatching_base_num     object\n",
       "pickup_datetime          object\n",
       "dropoff_datetime         object\n",
       "PULocationID              int64\n",
       "DOLocationID              int64\n",
       "SR_Flag                 float64\n",
       "dtype: object"
      ]
     },
     "execution_count": 9,
     "metadata": {},
     "output_type": "execute_result"
    }
   ],
   "source": [
    "pandas_df.dtypes"
   ]
  },
  {
   "cell_type": "code",
   "execution_count": 20,
   "metadata": {},
   "outputs": [
    {
     "data": {
      "text/plain": [
       "StructType([StructField('hvfhs_license_num', StringType(), True), StructField('dispatching_base_num', StringType(), True), StructField('pickup_datetime', StringType(), True), StructField('dropoff_datetime', StringType(), True), StructField('PULocationID', LongType(), True), StructField('DOLocationID', LongType(), True), StructField('SR_Flag', DoubleType(), True)])"
      ]
     },
     "execution_count": 20,
     "metadata": {},
     "output_type": "execute_result"
    }
   ],
   "source": [
    "spark.createDataFrame(pandas_df).schema"
   ]
  },
  {
   "cell_type": "code",
   "execution_count": 13,
   "metadata": {},
   "outputs": [],
   "source": [
    "from pyspark.sql import types"
   ]
  },
  {
   "cell_type": "code",
   "execution_count": 14,
   "metadata": {},
   "outputs": [],
   "source": [
    "schema = types.StructType(\n",
    "    [\n",
    "        types.StructField('hvfhs_license_num', types.StringType(), True), \n",
    "        types.StructField('dispatching_base_num', types.StringType(), True), \n",
    "        types.StructField('pickup_datetime', types.TimestampType(), True), \n",
    "        types.StructField('dropoff_datetime', types.TimestampType(), True), \n",
    "        types.StructField('PULocationID', types.IntegerType(), True), \n",
    "        types.StructField('DOLocationID', types.IntegerType(), True), \n",
    "        types.StructField('SR_Flag', types.StringType(), True)\n",
    "    ]\n",
    ")"
   ]
  },
  {
   "cell_type": "code",
   "execution_count": 15,
   "metadata": {},
   "outputs": [],
   "source": [
    "pyspark_df_cust_schema = spark.read \\\n",
    "    .option('header', 'true') \\\n",
    "    .schema(schema) \\\n",
    "    .csv('../data/fhvhv_tripdata_2021-01.csv')"
   ]
  },
  {
   "cell_type": "code",
   "execution_count": 17,
   "metadata": {},
   "outputs": [
    {
     "data": {
      "text/plain": [
       "StructType([StructField('hvfhs_license_num', StringType(), True), StructField('dispatching_base_num', StringType(), True), StructField('pickup_datetime', TimestampType(), True), StructField('dropoff_datetime', TimestampType(), True), StructField('PULocationID', IntegerType(), True), StructField('DOLocationID', IntegerType(), True), StructField('SR_Flag', StringType(), True)])"
      ]
     },
     "execution_count": 17,
     "metadata": {},
     "output_type": "execute_result"
    }
   ],
   "source": [
    "pyspark_df_cust_schema.schema"
   ]
  },
  {
   "cell_type": "code",
   "execution_count": 31,
   "metadata": {},
   "outputs": [],
   "source": [
    "pyspark_df_partitioned = pyspark_df.repartition(24)"
   ]
  },
  {
   "cell_type": "code",
   "execution_count": 36,
   "metadata": {},
   "outputs": [
    {
     "name": "stderr",
     "output_type": "stream",
     "text": [
      "24/03/04 19:58:36 WARN MemoryManager: Total allocation exceeds 95.00% (1,020,054,720 bytes) of heap memory\n",
      "Scaling row group sizes to 95.00% for 8 writers\n",
      "24/03/04 19:58:38 WARN MemoryManager: Total allocation exceeds 95.00% (1,020,054,720 bytes) of heap memory\n",
      "Scaling row group sizes to 95.00% for 8 writers\n",
      "24/03/04 19:58:39 WARN MemoryManager: Total allocation exceeds 95.00% (1,020,054,720 bytes) of heap memory\n",
      "Scaling row group sizes to 95.00% for 8 writers\n",
      "24/03/04 19:58:39 WARN MemoryManager: Total allocation exceeds 95.00% (1,020,054,720 bytes) of heap memory\n",
      "Scaling row group sizes to 95.00% for 8 writers\n",
      "                                                                                \r"
     ]
    }
   ],
   "source": [
    "pyspark_df_partitioned.write.parquet('../data/fhvhv_tripdata/2021/01')"
   ]
  },
  {
   "cell_type": "code",
   "execution_count": 34,
   "metadata": {},
   "outputs": [
    {
     "name": "stderr",
     "output_type": "stream",
     "text": [
      "24/03/04 19:57:27 WARN MemoryManager: Total allocation exceeds 95.00% (1,020,054,720 bytes) of heap memory\n",
      "Scaling row group sizes to 95.00% for 8 writers\n",
      "                                                                                \r"
     ]
    }
   ],
   "source": [
    "pandas_df.write.parquet('../data/fhvhv_tripdata_x/2021/01')"
   ]
  },
  {
   "cell_type": "code",
   "execution_count": 18,
   "metadata": {},
   "outputs": [
    {
     "name": "stderr",
     "output_type": "stream",
     "text": [
      "                                                                                \r"
     ]
    }
   ],
   "source": [
    "pyspark_df_from_parquet = spark.read.parquet('../data/fhvhv_tripdata/2021/01')"
   ]
  },
  {
   "cell_type": "code",
   "execution_count": 26,
   "metadata": {},
   "outputs": [
    {
     "name": "stdout",
     "output_type": "stream",
     "text": [
      "root\n",
      " |-- hvfhs_license_num: string (nullable = true)\n",
      " |-- dispatching_base_num: string (nullable = true)\n",
      " |-- pickup_datetime: timestamp (nullable = true)\n",
      " |-- dropoff_datetime: timestamp (nullable = true)\n",
      " |-- PULocationID: integer (nullable = true)\n",
      " |-- DOLocationID: integer (nullable = true)\n",
      " |-- SR_Flag: string (nullable = true)\n",
      "\n"
     ]
    }
   ],
   "source": [
    "pyspark_df_from_parquet.printSchema()"
   ]
  },
  {
   "cell_type": "code",
   "execution_count": 30,
   "metadata": {},
   "outputs": [
    {
     "name": "stdout",
     "output_type": "stream",
     "text": [
      "+-------------------+-------------------+------------+------------+\n",
      "|    pickup_datetime|   dropoff_datetime|PULocationID|DOLocationID|\n",
      "+-------------------+-------------------+------------+------------+\n",
      "|2021-01-01 16:17:16|2021-01-01 16:35:20|         153|         167|\n",
      "|2021-01-04 15:44:57|2021-01-04 15:56:21|         127|         244|\n",
      "|2021-01-03 14:05:52|2021-01-03 14:20:29|         183|          20|\n",
      "|2021-01-01 09:27:50|2021-01-01 09:46:50|         162|         106|\n",
      "|2021-01-04 10:53:41|2021-01-04 11:53:07|          18|          18|\n",
      "|2021-01-04 22:29:41|2021-01-04 22:51:07|          76|         215|\n",
      "|2021-01-02 14:52:09|2021-01-02 15:12:01|         220|          32|\n",
      "|2021-01-01 07:31:49|2021-01-01 07:46:16|         167|          94|\n",
      "|2021-01-02 22:35:51|2021-01-02 23:07:17|          71|         130|\n",
      "|2021-01-01 15:38:12|2021-01-01 15:58:56|         222|          61|\n",
      "|2021-01-05 02:08:44|2021-01-05 02:26:05|         181|          17|\n",
      "|2021-01-01 03:56:09|2021-01-01 04:06:33|         255|          97|\n",
      "|2021-01-02 20:16:11|2021-01-02 20:35:53|         225|          97|\n",
      "|2021-01-04 07:34:31|2021-01-04 07:44:46|         189|          25|\n",
      "|2021-01-03 19:19:53|2021-01-03 19:30:33|         147|          78|\n",
      "|2021-01-04 08:51:08|2021-01-04 09:04:11|         193|         226|\n",
      "|2021-01-04 07:16:55|2021-01-04 07:23:06|         196|         102|\n",
      "|2021-01-02 11:06:51|2021-01-02 11:21:35|          76|          77|\n",
      "|2021-01-01 15:55:06|2021-01-01 16:02:09|         174|         240|\n",
      "|2021-01-05 06:45:46|2021-01-05 06:54:11|         216|         216|\n",
      "+-------------------+-------------------+------------+------------+\n",
      "only showing top 20 rows\n",
      "\n"
     ]
    }
   ],
   "source": [
    "pyspark_df_from_parquet.select(\n",
    "    'pickup_datetime', 'dropoff_datetime', 'PULocationID', 'DOLocationID'\n",
    ").filter(pyspark_df_from_parquet.hvfhs_license_num == 'HV0003').show()"
   ]
  },
  {
   "cell_type": "code",
   "execution_count": 31,
   "metadata": {},
   "outputs": [],
   "source": [
    "from pyspark.sql import functions as F"
   ]
  },
  {
   "cell_type": "code",
   "execution_count": 45,
   "metadata": {},
   "outputs": [
    {
     "name": "stdout",
     "output_type": "stream",
     "text": [
      "+-----------------+--------------------+-------------------+-------------------+------------+------------+-------+-----------+\n",
      "|hvfhs_license_num|dispatching_base_num|    pickup_datetime|   dropoff_datetime|PULocationID|DOLocationID|SR_Flag|pickup_date|\n",
      "+-----------------+--------------------+-------------------+-------------------+------------+------------+-------+-----------+\n",
      "|           HV0003|              B02884|2021-01-01 16:17:16|2021-01-01 16:35:20|         153|         167|   NULL| 2021-01-01|\n",
      "|           HV0003|              B02882|2021-01-04 15:44:57|2021-01-04 15:56:21|         127|         244|   NULL| 2021-01-04|\n",
      "|           HV0005|              B02510|2021-01-04 14:29:31|2021-01-04 14:54:56|         138|          49|   NULL| 2021-01-04|\n",
      "|           HV0003|              B02864|2021-01-03 14:05:52|2021-01-03 14:20:29|         183|          20|   NULL| 2021-01-03|\n",
      "|           HV0003|              B02867|2021-01-01 09:27:50|2021-01-01 09:46:50|         162|         106|   NULL| 2021-01-01|\n",
      "|           HV0005|              B02510|2021-01-05 11:26:21|2021-01-05 11:55:13|         216|         265|   NULL| 2021-01-05|\n",
      "|           HV0003|              B02888|2021-01-04 10:53:41|2021-01-04 11:53:07|          18|          18|   NULL| 2021-01-04|\n",
      "|           HV0005|              B02510|2021-01-05 05:05:55|2021-01-05 05:20:16|          42|         207|   NULL| 2021-01-05|\n",
      "|           HV0003|              B02875|2021-01-04 22:29:41|2021-01-04 22:51:07|          76|         215|   NULL| 2021-01-04|\n",
      "|           HV0003|              B02764|2021-01-02 14:52:09|2021-01-02 15:12:01|         220|          32|   NULL| 2021-01-02|\n",
      "|           HV0003|              B02875|2021-01-01 07:31:49|2021-01-01 07:46:16|         167|          94|   NULL| 2021-01-01|\n",
      "|           HV0003|              B02866|2021-01-02 22:35:51|2021-01-02 23:07:17|          71|         130|   NULL| 2021-01-02|\n",
      "|           HV0003|              B02872|2021-01-01 15:38:12|2021-01-01 15:58:56|         222|          61|   NULL| 2021-01-01|\n",
      "|           HV0005|              B02510|2021-01-03 08:22:26|2021-01-03 08:34:41|          89|         195|   NULL| 2021-01-03|\n",
      "|           HV0003|              B02878|2021-01-05 02:08:44|2021-01-05 02:26:05|         181|          17|   NULL| 2021-01-05|\n",
      "|           HV0003|              B02870|2021-01-01 03:56:09|2021-01-01 04:06:33|         255|          97|   NULL| 2021-01-01|\n",
      "|           HV0003|              B02866|2021-01-02 20:16:11|2021-01-02 20:35:53|         225|          97|   NULL| 2021-01-02|\n",
      "|           HV0003|              B02878|2021-01-04 07:34:31|2021-01-04 07:44:46|         189|          25|   NULL| 2021-01-04|\n",
      "|           HV0005|              B02510|2021-01-03 00:05:56|2021-01-03 00:17:52|         151|         116|   NULL| 2021-01-03|\n",
      "|           HV0003|              B02877|2021-01-03 19:19:53|2021-01-03 19:30:33|         147|          78|   NULL| 2021-01-03|\n",
      "+-----------------+--------------------+-------------------+-------------------+------------+------------+-------+-----------+\n",
      "only showing top 20 rows\n",
      "\n"
     ]
    }
   ],
   "source": [
    "pyspark_df_from_parquet.withColumn(\n",
    "    'pickup_date', F.to_date('pickup_datetime')\n",
    ").show()"
   ]
  },
  {
   "cell_type": "code",
   "execution_count": 41,
   "metadata": {},
   "outputs": [
    {
     "name": "stdout",
     "output_type": "stream",
     "text": [
      "+-----------------+--------------------+-------------------+-------------------+------------+------------+-------+-----------+------------+\n",
      "|hvfhs_license_num|dispatching_base_num|    pickup_datetime|   dropoff_datetime|PULocationID|DOLocationID|SR_Flag|pickup_date|dropoff_date|\n",
      "+-----------------+--------------------+-------------------+-------------------+------------+------------+-------+-----------+------------+\n",
      "|           HV0003|              B02884|2021-01-01 16:17:16|2021-01-01 16:35:20|         153|         167|   NULL| 2021-01-01|  2021-01-01|\n",
      "|           HV0003|              B02882|2021-01-04 15:44:57|2021-01-04 15:56:21|         127|         244|   NULL| 2021-01-04|  2021-01-04|\n",
      "|           HV0005|              B02510|2021-01-04 14:29:31|2021-01-04 14:54:56|         138|          49|   NULL| 2021-01-04|  2021-01-04|\n",
      "|           HV0003|              B02864|2021-01-03 14:05:52|2021-01-03 14:20:29|         183|          20|   NULL| 2021-01-03|  2021-01-03|\n",
      "|           HV0003|              B02867|2021-01-01 09:27:50|2021-01-01 09:46:50|         162|         106|   NULL| 2021-01-01|  2021-01-01|\n",
      "|           HV0005|              B02510|2021-01-05 11:26:21|2021-01-05 11:55:13|         216|         265|   NULL| 2021-01-05|  2021-01-05|\n",
      "|           HV0003|              B02888|2021-01-04 10:53:41|2021-01-04 11:53:07|          18|          18|   NULL| 2021-01-04|  2021-01-04|\n",
      "|           HV0005|              B02510|2021-01-05 05:05:55|2021-01-05 05:20:16|          42|         207|   NULL| 2021-01-05|  2021-01-05|\n",
      "|           HV0003|              B02875|2021-01-04 22:29:41|2021-01-04 22:51:07|          76|         215|   NULL| 2021-01-04|  2021-01-04|\n",
      "|           HV0003|              B02764|2021-01-02 14:52:09|2021-01-02 15:12:01|         220|          32|   NULL| 2021-01-02|  2021-01-02|\n",
      "|           HV0003|              B02875|2021-01-01 07:31:49|2021-01-01 07:46:16|         167|          94|   NULL| 2021-01-01|  2021-01-01|\n",
      "|           HV0003|              B02866|2021-01-02 22:35:51|2021-01-02 23:07:17|          71|         130|   NULL| 2021-01-02|  2021-01-02|\n",
      "|           HV0003|              B02872|2021-01-01 15:38:12|2021-01-01 15:58:56|         222|          61|   NULL| 2021-01-01|  2021-01-01|\n",
      "|           HV0005|              B02510|2021-01-03 08:22:26|2021-01-03 08:34:41|          89|         195|   NULL| 2021-01-03|  2021-01-03|\n",
      "|           HV0003|              B02878|2021-01-05 02:08:44|2021-01-05 02:26:05|         181|          17|   NULL| 2021-01-05|  2021-01-05|\n",
      "|           HV0003|              B02870|2021-01-01 03:56:09|2021-01-01 04:06:33|         255|          97|   NULL| 2021-01-01|  2021-01-01|\n",
      "|           HV0003|              B02866|2021-01-02 20:16:11|2021-01-02 20:35:53|         225|          97|   NULL| 2021-01-02|  2021-01-02|\n",
      "|           HV0003|              B02878|2021-01-04 07:34:31|2021-01-04 07:44:46|         189|          25|   NULL| 2021-01-04|  2021-01-04|\n",
      "|           HV0005|              B02510|2021-01-03 00:05:56|2021-01-03 00:17:52|         151|         116|   NULL| 2021-01-03|  2021-01-03|\n",
      "|           HV0003|              B02877|2021-01-03 19:19:53|2021-01-03 19:30:33|         147|          78|   NULL| 2021-01-03|  2021-01-03|\n",
      "+-----------------+--------------------+-------------------+-------------------+------------+------------+-------+-----------+------------+\n",
      "only showing top 20 rows\n",
      "\n"
     ]
    }
   ],
   "source": [
    "pyspark_df_from_parquet.withColumns(\n",
    "    {\n",
    "        'pickup_date': F.to_date('pickup_datetime'),\n",
    "        'dropoff_date': F.to_date('dropoff_datetime')\n",
    "    }\n",
    ").show()"
   ]
  },
  {
   "cell_type": "code",
   "execution_count": 42,
   "metadata": {},
   "outputs": [],
   "source": [
    "# Dummy user-defined function \n",
    "# checks if dispatching_base_num is divisible by 7\n",
    "def crazy_stuff(base_num):\n",
    "\tnum = int(base_num[1:])\n",
    "\tif num % 7 == 0:\n",
    "\t\treturn f's/{num:03x}' \t\t# return num in hex prepended with 's/'\n",
    "\telse:\n",
    "\t\treturn f'e/{num:03x}' \t\t# return num in hex prepended with 'e/'\t\t"
   ]
  },
  {
   "cell_type": "code",
   "execution_count": 43,
   "metadata": {},
   "outputs": [
    {
     "data": {
      "text/plain": [
       "'e/b3b'"
      ]
     },
     "execution_count": 43,
     "metadata": {},
     "output_type": "execute_result"
    }
   ],
   "source": [
    "crazy_stuff('B02875')"
   ]
  },
  {
   "cell_type": "code",
   "execution_count": 44,
   "metadata": {},
   "outputs": [],
   "source": [
    "crazy_stuff_udf = F.udf(crazy_stuff, returnType=types.StringType())"
   ]
  },
  {
   "cell_type": "code",
   "execution_count": null,
   "metadata": {},
   "outputs": [],
   "source": [
    "pyspark_df_from_parquet.withColumns(\n",
    "    {\n",
    "        'pickup_date': F.to_date('pickup_datetime'),\n",
    "        'dropoff_date': F.to_date('dropoff_datetime'),\n",
    "        'base_id': crazy_stuff_udf('dispatching_base_num')\n",
    "    }\n",
    ").show()"
   ]
  }
 ],
 "metadata": {
  "kernelspec": {
   "display_name": "dezc24",
   "language": "python",
   "name": "python3"
  },
  "language_info": {
   "codemirror_mode": {
    "name": "ipython",
    "version": 3
   },
   "file_extension": ".py",
   "mimetype": "text/x-python",
   "name": "python",
   "nbconvert_exporter": "python",
   "pygments_lexer": "ipython3",
   "version": "3.10.13"
  }
 },
 "nbformat": 4,
 "nbformat_minor": 2
}
